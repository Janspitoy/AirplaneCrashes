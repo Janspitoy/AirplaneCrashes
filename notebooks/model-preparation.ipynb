{
 "cells": [
  {
   "cell_type": "markdown",
   "id": "74e294af",
   "metadata": {},
   "source": [
    "# Third Notebook: Data Preparation"
   ]
  },
  {
   "cell_type": "markdown",
   "id": "6051b092-a548-4437-ab06-870d6758f653",
   "metadata": {},
   "source": [
    "## Step 1: Load Data \n",
    "**And creating the file** ***learning_data.csv***\n"
   ]
  },
  {
   "cell_type": "markdown",
   "id": "eb492faf",
   "metadata": {},
   "source": [
    "**1. Load the Dataset.**<br>\n"
   ]
  },
  {
   "cell_type": "code",
   "execution_count": 192,
   "id": "241b96f9-e3fd-4993-a90b-e36c8814dbe4",
   "metadata": {},
   "outputs": [
    {
     "name": "stdout",
     "output_type": "stream",
     "text": [
      "        Date   Time                            Location  \\\n",
      "0  9/17/1908  17:18            Fort Myer, Virginia, USA   \n",
      "1   9/7/1909  00:00             Juvisy-sur-Orge, France   \n",
      "2  7/12/1912   6:30      Atlantic City, New Jersey, USA   \n",
      "3   8/6/1913  00:00  Victoria, British Columbia, Canada   \n",
      "4   9/9/1913  18:30                  Over the North Sea   \n",
      "\n",
      "                 Operator Flight #          Route                 AC Type  \\\n",
      "0    Military - U.S. Army      NaN  Demonstration        Wright Flyer III   \n",
      "1                     NaN      NaN       Air show          Wright Byplane   \n",
      "2    Military - U.S. Navy      NaN    Test flight               Dirigible   \n",
      "3                 Private      NaN            NaN        Curtiss seaplane   \n",
      "4  Military - German Navy      NaN            NaN  Zeppelin L-1 (airship)   \n",
      "\n",
      "  Registration cn/ln  Aboard  Aboard Passangers  Aboard Crew  Fatalities  \\\n",
      "0          NaN     1     2.0                1.0          1.0         1.0   \n",
      "1          SC1   NaN     1.0                0.0          1.0         1.0   \n",
      "2          NaN   NaN     5.0                0.0          5.0         5.0   \n",
      "3          NaN   NaN     1.0                0.0          1.0         1.0   \n",
      "4          NaN   NaN    20.0                NaN          NaN        14.0   \n",
      "\n",
      "   Fatalities Passangers  Fatalities Crew  Ground  \\\n",
      "0                    1.0              0.0     0.0   \n",
      "1                    0.0              0.0     0.0   \n",
      "2                    0.0              5.0     0.0   \n",
      "3                    0.0              1.0     0.0   \n",
      "4                    NaN              NaN     0.0   \n",
      "\n",
      "                                             Summary  \n",
      "0  During a demonstration flight, a U.S. Army fly...  \n",
      "1  Eugene Lefebvre was the first pilot to ever be...  \n",
      "2  First U.S. dirigible Akron exploded just offsh...  \n",
      "3  The first fatal airplane accident in Canada oc...  \n",
      "4  The airship flew into a thunderstorm and encou...  \n",
      "Date                        0\n",
      "Time                        0\n",
      "Location                    4\n",
      "Operator                   10\n",
      "Flight #                 3669\n",
      "Route                     777\n",
      "AC Type                    15\n",
      "Registration              274\n",
      "cn/ln                     668\n",
      "Aboard                     18\n",
      "Aboard Passangers         229\n",
      "Aboard Crew               226\n",
      "Fatalities                  8\n",
      "Fatalities Passangers     242\n",
      "Fatalities Crew           241\n",
      "Ground                     42\n",
      "Summary                    64\n",
      "dtype: int64\n"
     ]
    }
   ],
   "source": [
    "import pandas as pd\n",
    "\n",
    "# Load the dataset\n",
    "data_path = '../data/updated_Airplane_Crashes.csv'  # Replace with the actual path\n",
    "data = pd.read_csv(data_path)\n",
    "\n",
    "# Display the first few rows to understand the structure\n",
    "print(data.head())\n",
    "\n",
    "# Check for missing values\n",
    "print(data.isnull().sum())"
   ]
  },
  {
   "cell_type": "markdown",
   "id": "b036002a-431a-417f-bbd8-5af6762939c9",
   "metadata": {},
   "source": [
    "## Step 2: Encode Time into Vectors"
   ]
  },
  {
   "cell_type": "markdown",
   "id": "423f86b5",
   "metadata": {},
   "source": [
    "**1. Define the categorize_time_vectorized function.**<br>\n",
    "**2. Apply it to the Time column to generate Time_Vector.**"
   ]
  },
  {
   "cell_type": "code",
   "execution_count": 193,
   "id": "3b7b7d7b-af2a-43ba-9578-78bb9b7f5601",
   "metadata": {},
   "outputs": [
    {
     "name": "stdout",
     "output_type": "stream",
     "text": [
      "    Time      Time_Vector\n",
      "0  17:18  [0, 0, 1, 0, 0]\n",
      "1  00:00  [0, 0, 0, 0, 1]\n",
      "2   6:30  [1, 0, 0, 0, 0]\n",
      "3  00:00  [0, 0, 0, 0, 1]\n",
      "4  18:30  [0, 0, 1, 0, 0]\n"
     ]
    }
   ],
   "source": [
    "# Function to encode time into vectors\n",
    "def categorize_time_vectorized(time_str):\n",
    "    \"\"\"Categorize time into a one-hot encoded vector.\"\"\"\n",
    "    if pd.isnull(time_str) or time_str.strip() == \"00:00\":\n",
    "        return [0, 0, 0, 0, 1]  # Unknown\n",
    "    try:\n",
    "        hour = int(time_str.split(':')[0])\n",
    "        if 5 <= hour < 12:\n",
    "            return [1, 0, 0, 0, 0]  # Morning\n",
    "        elif 12 <= hour < 17:\n",
    "            return [0, 1, 0, 0, 0]  # Afternoon\n",
    "        elif 17 <= hour < 21:\n",
    "            return [0, 0, 1, 0, 0]  # Evening\n",
    "        else:\n",
    "            return [0, 0, 0, 1, 0]  # Night\n",
    "    except ValueError:\n",
    "        return [0, 0, 0, 0, 1]  # Unknown\n",
    "\n",
    "# Apply the function to create the Time_Vector column\n",
    "data['Time_Vector'] = data['Time'].apply(categorize_time_vectorized)\n",
    "\n",
    "# Inspect the result\n",
    "print(data[['Time', 'Time_Vector']].head())"
   ]
  },
  {
   "cell_type": "markdown",
   "id": "89547d61",
   "metadata": {},
   "source": [
    "## Step 3: Simplify Location"
   ]
  },
  {
   "cell_type": "markdown",
   "id": "141e7cfe",
   "metadata": {},
   "source": [
    "**1. Extract the country from the Location column (assuming the country is after the last comma).**"
   ]
  },
  {
   "cell_type": "code",
   "execution_count": 194,
   "id": "61cee5f3-4acd-486d-b634-145ef3c2ca04",
   "metadata": {},
   "outputs": [
    {
     "name": "stdout",
     "output_type": "stream",
     "text": [
      "Unique Regions: ['America' 'Europe' 'Unknown' 'Other' 'Oceania' 'Asia' 'Africa']\n",
      "    Region          Region_Vector\n",
      "0  America  [1, 0, 0, 0, 0, 0, 0]\n",
      "1   Europe  [0, 1, 0, 0, 0, 0, 0]\n",
      "2  America  [1, 0, 0, 0, 0, 0, 0]\n",
      "3  America  [1, 0, 0, 0, 0, 0, 0]\n",
      "4  Unknown  [0, 0, 1, 0, 0, 0, 0]\n"
     ]
    }
   ],
   "source": [
    "# Simplify Location to retain only the country\n",
    "def extract_country(location):\n",
    "    \"\"\"Extract the country from the location string.\"\"\"\n",
    "    if pd.isnull(location) or not isinstance(location, str):\n",
    "        return 'Unknown'  # Assign 'Unknown' if location is null or invalid\n",
    "    return location.split(',')[-1].strip()  # Take the last part after the comma\n",
    "\n",
    "# Apply the function to the Location column\n",
    "data['Location'] = data['Location'].apply(extract_country)\n",
    "\n",
    "# Define a function to assign regions based on the provided locations\n",
    "def map_location_to_region(location):\n",
    "    \"\"\"Map a location to its respective region.\"\"\"\n",
    "    if pd.isnull(location) or not isinstance(location, str):\n",
    "        return 'Unknown'\n",
    "    \n",
    "    # Normalize location names\n",
    "    location = location.strip().title()  # Normalize capitalization\n",
    "    location = location.replace('U.S.A.', 'USA').replace('United States', 'USA')\n",
    "    location = location.replace('United Kingdom', 'UK').replace('Ussr', 'Russia')\n",
    "    location = location.replace('Democratic Republic Of The Congo', 'Congo')\n",
    "    location = location.replace('Republic Of Djibouti', 'Djibouti')\n",
    "\n",
    "    # List of locations for each region (more comprehensive)\n",
    "    america = ['Usa', 'Canada', 'Mexico', 'Brazil', 'Argentina', 'Colombia', 'Venezuela', 'Puerto Rico', 'Chile', 'Ontario', \n",
    "               'Cuba', 'Ecuador', 'Peru', 'Panama', 'Paraguay', 'Guyana', 'Suriname', 'French Guyana', 'Trinidad', 'Bolivia', \n",
    "               'Uruguay', 'Gulf of Mexico', 'South Dakota', 'California', 'Tennessee', 'Florida', 'New York', 'Mississippi']\n",
    "    europe = ['France', 'Germany', 'Uk', 'England', 'Spain', 'Italy', 'Netherlands', 'Belgium', 'Sweden', 'Switzerland', 'Portugal', \n",
    "              'Greece', 'Poland', 'Norway', 'Denmark', 'Finland', 'Austria', 'Czech Republic', 'Hungary', 'Bulgaria', \n",
    "              'Croatia', 'Romania', 'Ukraine', 'Slovenia', 'Latvia', 'Lithuania', 'Estonia', 'Ireland', 'Luxembourg', \n",
    "              'Monaco', 'Belgium', 'Iceland', 'Kosovo', 'Malta', 'Czechoslovakia', 'Wales', 'Scotland']\n",
    "    asia = ['China', 'India', 'Japan', 'South Korea', 'North Korea', 'Indonesia', 'Pakistan', 'Bangladesh', 'Vietnam', \n",
    "            'Philippines', 'Thailand', 'Myanmar', 'Malaysia', 'Sri Lanka', 'Nepal', 'Cambodia', 'Laos', 'Singapore', \n",
    "            'Afghanistan', 'Tajikistan', 'Kazakhstan', 'Kyrgyzstan', 'Turkmenistan', 'Armenia', 'Azerbaijan', 'Georgia', \n",
    "            'Russia', 'Iran', 'Iraq', 'Syria', 'Jordan', 'Israel', 'Lebanon', 'Turkey', 'Saudi Arabia', 'Kuwait', 'Qatar', \n",
    "            'Uae', 'Oman', 'Yemen']\n",
    "    africa = ['Morroco', 'South Africa', 'Egypt', 'Nigeria', 'Kenya', 'Ethiopia', 'Morocco', 'Algeria', 'Tunisia', 'Uganda', 'Angola', \n",
    "              'Ghana', 'Cameroon', 'Mozambique', 'Zambia', 'Zimbabwe', 'Mali', 'Malawi', 'Senegal', 'Somalia', 'Rwanda', \n",
    "              'Congo', 'Gabon', 'Liberia', 'Sierra Leone', 'Benin', 'Botswana', 'Mauritius', 'Namibia', 'Burkina Faso', \n",
    "              'Niger', 'Togo', 'Central African Republic', 'Ivory Coast', 'Burundi', 'Gambia', 'Lesotho']\n",
    "    oceania = ['Australia', 'New Zealand', 'Papua New Guinea', 'Fiji', 'Solomon Islands', 'Vanuatu', 'Samoa', 'Tonga', \n",
    "               'Kiribati', 'Tuvalu', 'Nauru', 'Marshall Islands', 'Palau', 'Micronesia']\n",
    "    unknown = ['Ocean', 'Sea', 'Off', 'Near', 'Islands', 'Coast', 'Channel', 'Mediterranean', 'Atlantic', 'Indian Ocean', \n",
    "               'Gulf of Oman', 'Gulf of Finland', 'Gulf of Sirte', 'Gulf of Mexico', 'Gulf of Karkinitsky', 'Over', \n",
    "               'Near Hong Kong', 'Off Gibraltar', 'Over the Pacific Ocean']\n",
    "    \n",
    "    # Assign regions dynamically based on keywords\n",
    "    if location in america:\n",
    "        return 'America'\n",
    "    elif location in europe:\n",
    "        return 'Europe'\n",
    "    elif location in asia:\n",
    "        return 'Asia'\n",
    "    elif location in africa:\n",
    "        return 'Africa'\n",
    "    elif location in oceania:\n",
    "        return 'Oceania'\n",
    "    elif any(word in location for word in unknown):\n",
    "        return 'Unknown'\n",
    "    else:\n",
    "        return 'Other'  # For unclassified or unknown locations\n",
    "\n",
    "# Apply the function to map each location to a region\n",
    "data['Region'] = data['Location'].apply(map_location_to_region)\n",
    "\n",
    "# Step 1: Get unique regions\n",
    "unique_regions = data['Region'].unique()\n",
    "print(f\"Unique Regions: {unique_regions}\")\n",
    "\n",
    "# Step 2: Function to encode region into a one-hot vector\n",
    "def encode_region_to_vector(region):\n",
    "    \"\"\"Encode region into a one-hot vector based on unique regions.\"\"\"\n",
    "    vector = [0] * len(unique_regions)  # Initialize a zero vector\n",
    "    if region in unique_regions:\n",
    "        vector[list(unique_regions).index(region)] = 1  # Set 1 at the correct index\n",
    "    return vector\n",
    "\n",
    "# Step 3: Apply encoding to create a Region_Vector column\n",
    "data['Region_Vector'] = data['Region'].apply(encode_region_to_vector)\n",
    "\n",
    "# Inspect the result\n",
    "print(data[['Region', 'Region_Vector']].head())\n"
   ]
  },
  {
   "cell_type": "markdown",
   "id": "9b6a6517",
   "metadata": {},
   "source": [
    "## Step 4: Categorize Operator"
   ]
  },
  {
   "cell_type": "markdown",
   "id": "9fed0ba3",
   "metadata": {},
   "source": [
    "**1. Define the classify_operator function based on the provided categories.**<br>\n",
    "**2. Apply it to the Operator column.**"
   ]
  },
  {
   "cell_type": "code",
   "execution_count": 195,
   "id": "e18273cf",
   "metadata": {},
   "outputs": [
    {
     "name": "stdout",
     "output_type": "stream",
     "text": [
      "                 Operator  Category\n",
      "0    Military - U.S. Army  Military\n",
      "1                     NaN   Unknown\n",
      "2    Military - U.S. Navy  Military\n",
      "3                 Private   Private\n",
      "4  Military - German Navy  Military\n",
      "   Category     Category_Vector\n",
      "0  Military  [1, 0, 0, 0, 0, 0]\n",
      "1   Unknown  [0, 0, 0, 0, 0, 1]\n",
      "2  Military  [1, 0, 0, 0, 0, 0]\n",
      "3   Private  [0, 1, 0, 0, 0, 0]\n",
      "4  Military  [1, 0, 0, 0, 0, 0]\n"
     ]
    }
   ],
   "source": [
    "# Define operator categories\n",
    "categories = {\n",
    "    'Military': ['Military', 'Air Force', 'Navy', 'Army', 'Marine Corps', 'Defense', 'NATO'],\n",
    "    'Private': ['Private', 'Charter', 'Taxi', 'Club', 'Skydiving', 'Service', 'Inc.', 'Helicopter', 'Helicopters', 'Company'],\n",
    "    'Commercial': ['Aerolift', 'Aviastar', 'Rwandair', 'Wizzair', 'Airlink', 'Azzi',  'Alaska', 'Filair', 'Airlines', 'Airways', 'Lifeflight', 'Aéropro', 'Aeroflot', 'Aeroplane', 'UTAir', 'Flydubai', 'Emirates', 'Aviation', 'Lineas', 'Air', 'Lines', 'Aircraft', 'Transport', 'Cargo', 'Express', 'AirAsia', 'Transasia', 'Airway', 'Airways'],\n",
    "    'Government': ['Government', 'Police', 'Border', 'State'],\n",
    "    'Other': ['Historical', 'Research', 'Union', 'Society', 'Mission', 'Educational'],\n",
    "    'Unknown': []  # Catch-all for unmatched operators\n",
    "}\n",
    "\n",
    "# Function to classify operators\n",
    "def classify_operator(operator):\n",
    "    for category, keywords in categories.items():\n",
    "        if any(keyword.lower() in str(operator).lower() for keyword in keywords):\n",
    "            return category\n",
    "    return 'Unknown'\n",
    "\n",
    "# Apply the function to classify operators\n",
    "data['Category'] = data['Operator'].apply(classify_operator)\n",
    "\n",
    "# Inspect the result\n",
    "print(data[['Operator', 'Category']].head())\n",
    "\n",
    "# Define the categories for the operators\n",
    "operator_categories = ['Military', 'Private', 'Commercial', 'Government', 'Other', 'Unknown']\n",
    "\n",
    "# Function to encode `Category` into a one-hot vector\n",
    "def encode_operator_category(category):\n",
    "    \"\"\"Encode operator categories into a one-hot vector.\"\"\"\n",
    "    vector = [0] * len(operator_categories)  # Initialize vector with zeros\n",
    "    if category in operator_categories:\n",
    "        vector[operator_categories.index(category)] = 1  # Set 1 at the correct category index\n",
    "    return vector\n",
    "\n",
    "\n",
    "# Apply the function to encode `Category`\n",
    "data['Category_Vector'] = data['Category'].apply(encode_operator_category)\n",
    "\n",
    "# Inspect the result\n",
    "print(data[['Category', 'Category_Vector']].head())\n"
   ]
  },
  {
   "cell_type": "markdown",
   "id": "b97a76b2",
   "metadata": {},
   "source": [
    "## Step 5: Calculate Survives"
   ]
  },
  {
   "cell_type": "markdown",
   "id": "87613859",
   "metadata": {},
   "source": [
    "**1. Add the Survives column as 1 if there were survivors, otherwise 0.**"
   ]
  },
  {
   "cell_type": "code",
   "execution_count": 196,
   "id": "969db080",
   "metadata": {},
   "outputs": [
    {
     "name": "stdout",
     "output_type": "stream",
     "text": [
      "   Aboard  Fatalities  Survives\n",
      "0     2.0         1.0         1\n",
      "1     1.0         1.0         0\n",
      "2     5.0         5.0         0\n",
      "3     1.0         1.0         0\n",
      "4    20.0        14.0         1\n"
     ]
    }
   ],
   "source": [
    "# Calculate Survives\n",
    "data['Survives'] = (data['Aboard'] - data['Fatalities'] > 0).astype(int)\n",
    "\n",
    "# Inspect the result\n",
    "print(data[['Aboard', 'Fatalities', 'Survives']].head())"
   ]
  },
  {
   "cell_type": "markdown",
   "id": "734c90ad",
   "metadata": {},
   "source": [
    "##  Step 6: Simplify Summary"
   ]
  },
  {
   "cell_type": "markdown",
   "id": "304a4343",
   "metadata": {},
   "source": [
    "**1. Extract a single keyword from the Summary column based on predefined keywords.**"
   ]
  },
  {
   "cell_type": "code",
   "execution_count": 201,
   "id": "c7ed174b",
   "metadata": {},
   "outputs": [
    {
     "name": "stdout",
     "output_type": "stream",
     "text": [
      "                                                Summary     Summary_Category\n",
      "0     During a demonstration flight, a U.S. Army fly...  Mechanical Problems\n",
      "1     Eugene Lefebvre was the first pilot to ever be...  Mechanical Problems\n",
      "2     First U.S. dirigible Akron exploded just offsh...        Human Factors\n",
      "3     The first fatal airplane accident in Canada oc...      Weather-Related\n",
      "4     The airship flew into a thunderstorm and encou...      Weather-Related\n",
      "...                                                 ...                  ...\n",
      "4953  Shortly after takeoff from runway 29, the left...  Mechanical Problems\n",
      "4954  The vintage aircraft crashed onto Piz Segnas m...                Other\n",
      "4955  The aircraft was approaching for a landing at ...    Emergency Landing\n",
      "4956  The airliner crashed into the Jakarta Sea, 13 ...  Mechanical Problems\n",
      "4957  After taking off and reaching FL200, the crew ...                Other\n",
      "\n",
      "[4958 rows x 2 columns]\n",
      "      Summary_Category         Summary_Vector\n",
      "0  Mechanical Problems  [0, 0, 1, 0, 0, 0, 0]\n",
      "1  Mechanical Problems  [0, 0, 1, 0, 0, 0, 0]\n",
      "2        Human Factors  [0, 0, 0, 0, 1, 0, 0]\n",
      "3      Weather-Related  [0, 1, 0, 0, 0, 0, 0]\n",
      "4      Weather-Related  [0, 1, 0, 0, 0, 0, 0]\n"
     ]
    }
   ],
   "source": [
    "# Define detailed summary categories and their keywords\n",
    "detailed_keywords = {\n",
    "    'Visibility Issues': ['visibility', 'low-visibility', 'snowstorm', 'fog', 'cloud'],\n",
    "    'Weather-Related': ['weather', 'storm', 'thunderstorm', 'snowstorm', 'lightning'],\n",
    "    'Mechanical Problems': ['engine', 'fire', 'control', 'explosion', 'structural failure'],\n",
    "    'Emergency Landing': ['emergency landing', 'land', 'ditched'],\n",
    "    'Human Factors': ['training flight', 'test', 'demonstration'],\n",
    "    'Unknown Causes': ['unknown reasons', 'unknown circumstances', 'cause unknown'],\n",
    "    'First or Second War': ['shot down']\n",
    "}\n",
    "\n",
    "# Function to classify summaries into categories\n",
    "def classify_summary(summary):\n",
    "    if pd.isnull(summary):\n",
    "        return 'Unknown Causes'\n",
    "    summary = summary.lower()\n",
    "    for category, keywords in detailed_keywords.items():\n",
    "        if any(keyword in summary for keyword in keywords):\n",
    "            return category\n",
    "    return 'Other'\n",
    "\n",
    "# Apply the function to classify summaries\n",
    "data['Summary_Category'] = data['Summary'].apply(classify_summary)\n",
    "\n",
    "# Inspect the result\n",
    "print(data[['Summary', 'Summary_Category']].head(-40))\n",
    "\n",
    "# List of all categories from the detailed_keywords dictionary\n",
    "categories = list(detailed_keywords.keys())\n",
    "\n",
    "# Function to encode `Summary_Category` into a one-hot vector\n",
    "def encode_summary_to_vector(summary_category):\n",
    "    \"\"\"Encode summary categories into a one-hot vector.\"\"\"\n",
    "    vector = [0] * len(categories)  # Initialize vector with zeros\n",
    "    if summary_category in categories:\n",
    "        vector[categories.index(summary_category)] = 1  # Set 1 at the correct category index\n",
    "    return vector\n",
    "\n",
    "# Apply the function to create a `Summary_Vector` column\n",
    "data['Summary_Vector'] = data['Summary_Category'].apply(encode_summary_to_vector)\n",
    "\n",
    "# Inspect the result\n",
    "print(data[['Summary_Category', 'Summary_Vector']].head())\n"
   ]
  },
  {
   "cell_type": "markdown",
   "id": "2f7a4482",
   "metadata": {},
   "source": [
    "## Step 7: Keep Required Columns"
   ]
  },
  {
   "cell_type": "markdown",
   "id": "f58a718a",
   "metadata": {},
   "source": [
    "**1. Select only the necessary columns and include the Time_Vector.**"
   ]
  },
  {
   "cell_type": "code",
   "execution_count": 199,
   "id": "0d306d8a",
   "metadata": {},
   "outputs": [
    {
     "name": "stdout",
     "output_type": "stream",
     "text": [
      "        Date          Region_Vector  Aboard  Fatalities  Survives  \\\n",
      "0  9/17/1908  [1, 0, 0, 0, 0, 0, 0]     2.0         1.0         1   \n",
      "1   9/7/1909  [0, 1, 0, 0, 0, 0, 0]     1.0         1.0         0   \n",
      "2  7/12/1912  [1, 0, 0, 0, 0, 0, 0]     5.0         5.0         0   \n",
      "3   8/6/1913  [1, 0, 0, 0, 0, 0, 0]     1.0         1.0         0   \n",
      "4   9/9/1913  [0, 0, 1, 0, 0, 0, 0]    20.0        14.0         1   \n",
      "\n",
      "       Time_Vector     Category_Vector         Summary_Vector  \n",
      "0  [0, 0, 1, 0, 0]  [1, 0, 0, 0, 0, 0]  [0, 0, 1, 0, 0, 0, 0]  \n",
      "1  [0, 0, 0, 0, 1]  [0, 0, 0, 0, 0, 1]  [0, 0, 1, 0, 0, 0, 0]  \n",
      "2  [1, 0, 0, 0, 0]  [1, 0, 0, 0, 0, 0]  [0, 0, 0, 0, 1, 0, 0]  \n",
      "3  [0, 0, 0, 0, 1]  [0, 1, 0, 0, 0, 0]  [0, 1, 0, 0, 0, 0, 0]  \n",
      "4  [0, 0, 1, 0, 0]  [1, 0, 0, 0, 0, 0]  [0, 1, 0, 0, 0, 0, 0]  \n"
     ]
    }
   ],
   "source": [
    "# Define the required columns, including expanded vector columns\n",
    "columns_to_keep = [\n",
    "    'Date',\n",
    "    'Region_Vector',  # Simplified location (country only)\n",
    "    'Aboard', 'Fatalities', 'Survives',  # Numeric columns    \n",
    "    'Time_Vector', # Expanded Time_Vector columns    \n",
    "    'Category_Vector', # Expanded Category columns   \n",
    "    'Summary_Vector' # Expanded Summary_Category columns\n",
    "]\n",
    "\n",
    "# Filter the dataset to include only these columns\n",
    "final_data = data[columns_to_keep]\n",
    "\n",
    "# Inspect the final dataset\n",
    "print(final_data.head())\n"
   ]
  },
  {
   "cell_type": "markdown",
   "id": "a33d4a8d",
   "metadata": {},
   "source": [
    "## Step 8: Save to CSV"
   ]
  },
  {
   "cell_type": "markdown",
   "id": "cb97e3c2",
   "metadata": {},
   "source": [
    "**1. Save the final prepared dataset to a new CSV file.**"
   ]
  },
  {
   "cell_type": "code",
   "execution_count": 200,
   "id": "0d2a4b29",
   "metadata": {},
   "outputs": [
    {
     "name": "stdout",
     "output_type": "stream",
     "text": [
      "Prepared data saved to ../data/learning_data.csv\n"
     ]
    }
   ],
   "source": [
    "# Save the final dataset to a new CSV file\n",
    "output_file = '../data/learning_data.csv'  # Replace with the desired output path\n",
    "final_data.to_csv(output_file, index=False)\n",
    "print(f\"Prepared data saved to {output_file}\")"
   ]
  },
  {
   "cell_type": "markdown",
   "id": "c7dbb855",
   "metadata": {},
   "source": [
    "# Then we have done data preparation, we can begin with model training.\n",
    "**You can find the model training in the file** ***model-training.ipynd***"
   ]
  }
 ],
 "metadata": {
  "kernelspec": {
   "display_name": "Python 3",
   "language": "python",
   "name": "python3"
  },
  "language_info": {
   "codemirror_mode": {
    "name": "ipython",
    "version": 3
   },
   "file_extension": ".py",
   "mimetype": "text/x-python",
   "name": "python",
   "nbconvert_exporter": "python",
   "pygments_lexer": "ipython3",
   "version": "3.10.0"
  }
 },
 "nbformat": 4,
 "nbformat_minor": 5
}
