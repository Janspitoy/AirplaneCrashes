{
 "cells": [
  {
   "cell_type": "markdown",
   "id": "9eef0fdf",
   "metadata": {},
   "source": [
    "Step 1: Load the Data"
   ]
  },
  {
   "cell_type": "code",
   "execution_count": null,
   "id": "e43fe6b7",
   "metadata": {},
   "outputs": [
    {
     "name": "stdout",
     "output_type": "stream",
     "text": [
      "        Date      Time_Vector  Aboard  Fatalities  Survives\n",
      "0  9/17/1908  [0, 0, 1, 0, 0]     2.0         1.0         1\n",
      "1   9/7/1909  [0, 0, 0, 0, 1]     1.0         1.0         0\n",
      "2  7/12/1912  [1, 0, 0, 0, 0]     5.0         5.0         0\n",
      "3   8/6/1913  [0, 0, 0, 0, 1]     1.0         1.0         0\n",
      "4   9/9/1913  [0, 0, 1, 0, 0]    20.0        14.0         1\n",
      "Date            0\n",
      "Time_Vector     0\n",
      "Aboard         18\n",
      "Fatalities      8\n",
      "Survives        0\n",
      "dtype: int64\n"
     ]
    }
   ],
   "source": [
    "import pandas as pd\n",
    "import matplotlib.pyplot as plt\n",
    "import numpy as np\n",
    "from sklearn.model_selection import train_test_split\n",
    "from sklearn.ensemble import RandomForestClassifier\n",
    "from sklearn.metrics import classification_report, confusion_matrix\n",
    "\n",
    "\n",
    "# Load the dataset\n",
    "file_path = '../data/prepared_data1.csv'  # Replace with your actual file path\n",
    "data = pd.read_csv(file_path)\n",
    "\n",
    "# Inspect the first few rows of the data\n",
    "print(data.head())\n",
    "\n",
    "# Check for missing values in the dataset\n",
    "print(data.isnull().sum())\n"
   ]
  },
  {
   "cell_type": "markdown",
   "id": "7da750f4",
   "metadata": {},
   "source": [
    "Step 2: Handle Missing Values\n"
   ]
  },
  {
   "cell_type": "code",
   "execution_count": 32,
   "id": "85c8a675",
   "metadata": {},
   "outputs": [
    {
     "name": "stdout",
     "output_type": "stream",
     "text": [
      "Date           0\n",
      "Time_Vector    0\n",
      "Aboard         0\n",
      "Fatalities     0\n",
      "Survives       0\n",
      "dtype: int64\n"
     ]
    }
   ],
   "source": [
    "# Fill missing values in numeric columns (Aboard, Fatalities) with the median of each column\n",
    "data['Aboard'] = data['Aboard'].fillna(data['Aboard'].median())\n",
    "data['Fatalities'] = data['Fatalities'].fillna(data['Fatalities'].median())\n",
    "\n",
    "# Check if there are any other missing values\n",
    "print(data.isnull().sum())\n"
   ]
  },
  {
   "cell_type": "markdown",
   "id": "553707b3",
   "metadata": {},
   "source": [
    "Step 3: Process Date Column\n"
   ]
  },
  {
   "cell_type": "code",
   "execution_count": 33,
   "id": "d81c805f",
   "metadata": {},
   "outputs": [
    {
     "name": "stdout",
     "output_type": "stream",
     "text": [
      "   Year  Month  Day_of_Week\n",
      "0  1908      9            3\n",
      "1  1909      9            1\n",
      "2  1912      7            4\n",
      "3  1913      8            2\n",
      "4  1913      9            1\n"
     ]
    }
   ],
   "source": [
    "# Convert 'Date' to datetime format\n",
    "data['Date'] = pd.to_datetime(data['Date'], format='%m/%d/%Y', errors='coerce')\n",
    "\n",
    "# Extract 'Year', 'Month', and 'Day_of_Week' from 'Date'\n",
    "data['Year'] = data['Date'].dt.year\n",
    "data['Month'] = data['Date'].dt.month\n",
    "data['Day_of_Week'] = data['Date'].dt.dayofweek  # 0=Monday, 6=Sunday\n",
    "\n",
    "# Drop the original 'Date' column as it's no longer needed\n",
    "data = data.drop(columns=['Date'])\n",
    "\n",
    "# Check the changes\n",
    "print(data[['Year', 'Month', 'Day_of_Week']].head())\n"
   ]
  },
  {
   "cell_type": "code",
   "execution_count": 21,
   "id": "77c0c4b9",
   "metadata": {},
   "outputs": [
    {
     "name": "stdout",
     "output_type": "stream",
     "text": [
      "   Year  Month  Day_of_Week\n",
      "0  1908      9            3\n",
      "1  1909      9            1\n",
      "2  1912      7            4\n",
      "3  1913      8            2\n",
      "4  1913      9            1\n"
     ]
    }
   ],
   "source": [
    "# Convert 'Date' to datetime format\n",
    "data['Date'] = pd.to_datetime(data['Date'], format='%m/%d/%Y', errors='coerce')\n",
    "\n",
    "# Extract year, month, and day of the week from 'Date'\n",
    "data['Year'] = data['Date'].dt.year\n",
    "data['Month'] = data['Date'].dt.month\n",
    "data['Day_of_Week'] = data['Date'].dt.dayofweek  # 0=Monday, 6=Sunday\n",
    "\n",
    "# Drop the original 'Date' column as it's no longer needed\n",
    "data = data.drop(columns=['Date'])\n",
    "\n",
    "# Inspect the changes\n",
    "print(data[['Year', 'Month', 'Day_of_Week']].head())"
   ]
  },
  {
   "cell_type": "markdown",
   "id": "3694a4e7",
   "metadata": {},
   "source": [
    "Step 4: Process Time_Vector Column\n"
   ]
  },
  {
   "cell_type": "code",
   "execution_count": 34,
   "id": "c3d6c466",
   "metadata": {},
   "outputs": [
    {
     "name": "stdout",
     "output_type": "stream",
     "text": [
      "   Time_Morning  Time_Afternoon  Time_Evening  Time_Night  Time_Unknown\n",
      "0             0               0             1           0             0\n",
      "1             0               0             0           0             1\n",
      "2             1               0             0           0             0\n",
      "3             0               0             0           0             1\n",
      "4             0               0             1           0             0\n"
     ]
    }
   ],
   "source": [
    "# Convert 'Time_Vector' from string representation to a list of integers\n",
    "data['Time_Vector'] = data['Time_Vector'].apply(lambda x: eval(x) if isinstance(x, str) else x)\n",
    "\n",
    "# Expand the 'Time_Vector' into separate columns\n",
    "time_vector_columns = ['Time_Morning', 'Time_Afternoon', 'Time_Evening', 'Time_Night', 'Time_Unknown']\n",
    "time_vectors = pd.DataFrame(data['Time_Vector'].tolist(), columns=time_vector_columns)\n",
    "\n",
    "# Concatenate the time vector columns with the original data and drop the 'Time_Vector' column\n",
    "data = pd.concat([data, time_vectors], axis=1).drop(columns=['Time_Vector'])\n",
    "\n",
    "# Check the new columns\n",
    "print(data[time_vector_columns].head())\n"
   ]
  },
  {
   "cell_type": "markdown",
   "id": "e7971876",
   "metadata": {},
   "source": [
    "Step 5: Define Features and Target\n"
   ]
  },
  {
   "cell_type": "code",
   "execution_count": 35,
   "id": "6acda68a",
   "metadata": {},
   "outputs": [],
   "source": [
    "# Define features (X) and target variable (y)\n",
    "X = data.drop(columns=['Survives'])  # Features (everything except 'Survives')\n",
    "y = data['Survives']  # Target variable ('Survives')\n"
   ]
  },
  {
   "cell_type": "markdown",
   "id": "cd150476",
   "metadata": {},
   "source": [
    "Step 6: Split the Data into Training and Test Sets\n"
   ]
  },
  {
   "cell_type": "code",
   "execution_count": null,
   "id": "1a00b5f4",
   "metadata": {},
   "outputs": [
    {
     "name": "stdout",
     "output_type": "stream",
     "text": [
      "Training data size: (3998, 10)\n",
      "Testing data size: (1000, 10)\n"
     ]
    }
   ],
   "source": [
    "# Split the data into training and testing sets\n",
    "X_train, X_test, y_train, y_test = train_test_split(X, y, test_size=0.2, random_state=42)\n",
    "\n",
    "# Check the split sizes\n",
    "print(f\"Training data size: {X_train.shape}\")\n",
    "print(f\"Testing data size: {X_test.shape}\")\n"
   ]
  },
  {
   "cell_type": "markdown",
   "id": "93a88027",
   "metadata": {},
   "source": [
    "Step 7: Train the Model\n"
   ]
  },
  {
   "cell_type": "code",
   "execution_count": null,
   "id": "43ff72f7",
   "metadata": {},
   "outputs": [],
   "source": [
    "# Initialize the Random Forest model\n",
    "model = RandomForestClassifier(n_estimators=100, random_state=42)\n",
    "\n",
    "# Train the model\n",
    "model.fit(X_train, y_train)\n",
    "\n",
    "# Make predictions on the test set\n",
    "y_pred = model.predict(X_test)\n"
   ]
  },
  {
   "cell_type": "markdown",
   "id": "de544154",
   "metadata": {},
   "source": [
    "Step 8: Evaluate the Model\n"
   ]
  },
  {
   "cell_type": "code",
   "execution_count": null,
   "id": "c73fa33e",
   "metadata": {},
   "outputs": [
    {
     "name": "stdout",
     "output_type": "stream",
     "text": [
      "Classification Report:\n",
      "              precision    recall  f1-score   support\n",
      "\n",
      "           0       0.88      0.98      0.93       649\n",
      "           1       0.96      0.75      0.84       351\n",
      "\n",
      "    accuracy                           0.90      1000\n",
      "   macro avg       0.92      0.87      0.88      1000\n",
      "weighted avg       0.91      0.90      0.90      1000\n",
      "\n",
      "Confusion Matrix:\n",
      "[[639  10]\n",
      " [ 89 262]]\n"
     ]
    }
   ],
   "source": [
    "# Evaluate the model\n",
    "print(\"Classification Report:\")\n",
    "print(classification_report(y_test, y_pred))\n",
    "\n",
    "# Confusion Matrix\n",
    "print(\"Confusion Matrix:\")\n",
    "print(confusion_matrix(y_test, y_pred))\n"
   ]
  },
  {
   "cell_type": "markdown",
   "id": "7742694c",
   "metadata": {},
   "source": [
    "Step 9: Feature Importance\n"
   ]
  },
  {
   "cell_type": "code",
   "execution_count": null,
   "id": "206f509d",
   "metadata": {},
   "outputs": [
    {
     "data": {
      "image/png": "[encoded data removed]",
      "text/plain": [
       "<Figure size 1000x600 with 1 Axes>"
      ]
     },
     "metadata": {},
     "output_type": "display_data"
    }
   ],
   "source": [
    "# Get feature importance from the model\n",
    "feature_importance = model.feature_importances_\n",
    "\n",
    "# Get the feature names after one-hot encoding\n",
    "feature_names = X.columns\n",
    "\n",
    "# Plot the feature importance\n",
    "plt.figure(figsize=(10, 6))\n",
    "indices = np.argsort(feature_importance)[::-1]\n",
    "plt.barh(range(len(feature_importance)), feature_importance[indices], align=\"center\")\n",
    "plt.yticks(range(len(feature_importance)), np.array(feature_names)[indices])\n",
    "plt.xlabel('Feature Importance')\n",
    "plt.title('Random Forest Feature Importance')\n",
    "plt.tight_layout()\n",
    "plt.show()\n"
   ]
  },
  {
   "cell_type": "code",
   "execution_count": null,
   "id": "22236bee",
   "metadata": {},
   "outputs": [],
   "source": []
  }
 ],
 "metadata": {
  "kernelspec": {
   "display_name": "Python 3",
   "language": "python",
   "name": "python3"
  },
  "language_info": {
   "codemirror_mode": {
    "name": "ipython",
    "version": 3
   },
   "file_extension": ".py",
   "mimetype": "text/x-python",
   "name": "python",
   "nbconvert_exporter": "python",
   "pygments_lexer": "ipython3",
   "version": "3.10.0"
  }
 },
 "nbformat": 4,
 "nbformat_minor": 5
}
